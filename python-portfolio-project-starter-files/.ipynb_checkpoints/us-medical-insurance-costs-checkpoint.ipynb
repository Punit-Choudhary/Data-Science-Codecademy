{
 "cells": [
  {
   "cell_type": "markdown",
   "metadata": {},
   "source": [
    "# U.S. Medical Insurance Costs"
   ]
  },
  {
   "cell_type": "markdown",
   "metadata": {},
   "source": [
    "### Scope of project:"
   ]
  },
  {
   "cell_type": "markdown",
   "metadata": {},
   "source": [
    "- Average Age\n",
    "- Analyze where a majority of the individuals are from\n",
    "- Look at the different costs between smokers vs. non-smokers.\n",
    "- Figure out what the average age is for someone who has at least one child in this dataset."
   ]
  },
  {
   "cell_type": "code",
   "execution_count": 13,
   "metadata": {},
   "outputs": [],
   "source": [
    "import csv"
   ]
  },
  {
   "cell_type": "code",
   "execution_count": 14,
   "metadata": {},
   "outputs": [],
   "source": [
    "with open(\"insurance.csv\") as insurance:\n",
    "    data = []\n",
    "    file = csv.DictReader(insurance)\n",
    "    for row in file:\n",
    "        data.append(row)"
   ]
  },
  {
   "cell_type": "code",
   "execution_count": 15,
   "metadata": {},
   "outputs": [
    {
     "data": {
      "text/plain": [
       "1338"
      ]
     },
     "execution_count": 15,
     "metadata": {},
     "output_type": "execute_result"
    }
   ],
   "source": [
    "total_age = sum([int(row[\"age\"]) for row in data])\n",
    "length_age = len(data)\n",
    "total_age\n",
    "length_age"
   ]
  },
  {
   "cell_type": "code",
   "execution_count": 20,
   "metadata": {},
   "outputs": [],
   "source": [
    "Average_age = round(total_age/length_age, 2)\n"
   ]
  },
  {
   "cell_type": "code",
   "execution_count": 37,
   "metadata": {},
   "outputs": [],
   "source": [
    "def majority(database):\n",
    "    regions = []\n",
    "    reg_count = {}\n",
    "    for data in database:\n",
    "        regions.append(data['region'])\n",
    "    \n",
    "    for reg in regions:\n",
    "        temp = reg_count.get(reg, False)\n",
    "        if not temp:\n",
    "            reg_count[reg] = 1\n",
    "        else:\n",
    "            reg_count[reg] += 1\n",
    "    values = list(reg_count.values())\n",
    "    max_value = max(values)\n",
    "    index = values.index(max_value)\n",
    "    keys = list(reg_count.keys())\n",
    "    return keys[index]"
   ]
  },
  {
   "cell_type": "code",
   "execution_count": 39,
   "metadata": {
    "tags": []
   },
   "outputs": [
    {
     "data": {
      "text/plain": [
       "'southeast'"
      ]
     },
     "execution_count": 39,
     "metadata": {},
     "output_type": "execute_result"
    }
   ],
   "source": [
    "reg_count = majority(data)\n",
    "reg_count"
   ]
  },
  {
   "cell_type": "code",
   "execution_count": null,
   "metadata": {},
   "outputs": [],
   "source": []
  }
 ],
 "metadata": {
  "kernelspec": {
   "display_name": "Python 3",
   "language": "python",
   "name": "python3"
  },
  "language_info": {
   "codemirror_mode": {
    "name": "ipython",
    "version": 3
   },
   "file_extension": ".py",
   "mimetype": "text/x-python",
   "name": "python",
   "nbconvert_exporter": "python",
   "pygments_lexer": "ipython3",
   "version": "3.8.8"
  }
 },
 "nbformat": 4,
 "nbformat_minor": 4
}
