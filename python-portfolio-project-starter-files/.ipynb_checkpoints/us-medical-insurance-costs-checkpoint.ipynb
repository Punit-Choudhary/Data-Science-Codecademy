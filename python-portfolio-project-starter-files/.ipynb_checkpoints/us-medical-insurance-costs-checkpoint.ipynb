{
 "cells": [
  {
   "cell_type": "markdown",
   "metadata": {},
   "source": [
    "# U.S. Medical Insurance Costs"
   ]
  },
  {
   "cell_type": "markdown",
   "metadata": {},
   "source": [
    "### Scope of project:"
   ]
  },
  {
   "cell_type": "markdown",
   "metadata": {},
   "source": [
    "1. Average Age\n",
    "2. Analyze where a majority of the individuals are from\n",
    "3. Look at the different costs between smokers vs. non-smokers.\n",
    "4. Figure out what the average age is for someone who has at least one child in this dataset."
   ]
  },
  {
   "cell_type": "code",
   "execution_count": 1,
   "metadata": {},
   "outputs": [],
   "source": [
    "import csv\n",
    "with open(\"insurance.csv\") as raw:\n",
    "    data = []\n",
    "    file = csv.DictReader(raw)\n",
    "    for row in file:\n",
    "        data.append(row)"
   ]
  },
  {
   "cell_type": "markdown",
   "metadata": {},
   "source": [
    "### Average Age"
   ]
  },
  {
   "cell_type": "code",
   "execution_count": 4,
   "metadata": {},
   "outputs": [
    {
     "data": {
      "text/plain": [
       "39"
      ]
     },
     "execution_count": 4,
     "metadata": {},
     "output_type": "execute_result"
    }
   ],
   "source": [
    "total_age = sum([int(row[\"age\"]) for row in data])\n",
    "length_age = len(data)\n",
    "Average_age = total_age // length_age\n",
    "Average_age"
   ]
  },
  {
   "cell_type": "markdown",
   "metadata": {},
   "source": [
    "### Majority"
   ]
  },
  {
   "cell_type": "code",
   "execution_count": 5,
   "metadata": {},
   "outputs": [],
   "source": [
    "def majority(database):\n",
    "    regions = []\n",
    "    reg_count = {}\n",
    "    for data in database:\n",
    "        regions.append(data['region'])\n",
    "    \n",
    "    for reg in regions:\n",
    "        temp = reg_count.get(reg, False)\n",
    "        if not temp:\n",
    "            reg_count[reg] = 1\n",
    "        else:\n",
    "            reg_count[reg] += 1\n",
    "    return max(reg_count, key=reg_count.get)"
   ]
  },
  {
   "cell_type": "code",
   "execution_count": 6,
   "metadata": {
    "tags": []
   },
   "outputs": [
    {
     "data": {
      "text/plain": [
       "'southeast'"
      ]
     },
     "execution_count": 6,
     "metadata": {},
     "output_type": "execute_result"
    }
   ],
   "source": [
    "reg_count = majority(data)\n",
    "reg_count"
   ]
  },
  {
   "cell_type": "markdown",
   "metadata": {},
   "source": [
    "### Cost Difference between Smoker & Non-Smoker"
   ]
  },
  {
   "cell_type": "code",
   "execution_count": 14,
   "metadata": {
    "tags": []
   },
   "outputs": [],
   "source": [
    "def cost_smoker(database):\n",
    "    smoker_cost = []\n",
    "    non_smoker_cost = []\n",
    "    for data in database:\n",
    "        if data[\"smoker\"] == \"yes\":\n",
    "            smoker_cost.append(float(data[\"charges\"]))\n",
    "        else:\n",
    "            non_smoker_cost.append(float(data[\"charges\"]))\n",
    "    return smoker_cost, non_smoker_cost\n",
    "\n",
    "smoker_cost, non_smoker_cost = cost_smoker(data)"
   ]
  },
  {
   "cell_type": "code",
   "execution_count": 18,
   "metadata": {},
   "outputs": [
    {
     "name": "stdout",
     "output_type": "stream",
     "text": [
      "Average difference between Smoker & Non Smoker cost is $23616.0\n"
     ]
    }
   ],
   "source": [
    "avg_smoker_cost = sum(smoker_cost) // len(smoker_cost)\n",
    "avg_non_smoker_cost = sum(non_smoker_cost) // len(non_smoker_cost)\n",
    "difference = avg_smoker_cost - avg_non_smoker_cost\n",
    "print(f\"Average difference between Smoker & Non Smoker cost is ${difference}\")"
   ]
  }
 ],
 "metadata": {
  "kernelspec": {
   "display_name": "Python 3",
   "language": "python",
   "name": "python3"
  },
  "language_info": {
   "codemirror_mode": {
    "name": "ipython",
    "version": 3
   },
   "file_extension": ".py",
   "mimetype": "text/x-python",
   "name": "python",
   "nbconvert_exporter": "python",
   "pygments_lexer": "ipython3",
   "version": "3.8.8"
  }
 },
 "nbformat": 4,
 "nbformat_minor": 4
}
